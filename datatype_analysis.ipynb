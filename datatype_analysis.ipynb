{
 "cells": [
  {
   "cell_type": "markdown",
   "metadata": {},
   "source": [
    "# CSV Datatype Analysis"
   ]
  },
  {
   "cell_type": "code",
   "execution_count": null,
   "metadata": {},
   "outputs": [],
   "source": [
    "import pandas as pd\n",
    "import numpy as np"
   ]
  },
  {
   "cell_type": "code",
   "execution_count": null,
   "metadata": {},
   "outputs": [],
   "source": [
    "# Load the CSV file\n",
    "df = pd.read_csv('Mobile.csv')\n",
    "print(f\"Dataset shape: {df.shape}\")\n",
    "print(f\"Number of rows: {df.shape[0]}\")\n",
    "print(f\"Number of columns: {df.shape[1]}\")"
   ]
  },
  {
   "cell_type": "code",
   "execution_count": null,
   "metadata": {},
   "outputs": [],
   "source": [
    "# Display first few rows\n",
    "df.head()"
   ]
  },
  {
   "cell_type": "code",
   "execution_count": null,
   "metadata": {},
   "outputs": [],
   "source": [
    "# Display datatypes of all columns\n",
    "print(\"Column Datatypes:\")\n",
    "print(df.dtypes)"
   ]
  },
  {
   "cell_type": "code",
   "execution_count": null,
   "metadata": {},
   "outputs": [],
   "source": [
    "# Detailed information including datatypes, non-null counts, and memory usage\n",
    "df.info()"
   ]
  },
  {
   "cell_type": "code",
   "execution_count": null,
   "metadata": {},
   "outputs": [],
   "source": [
    "df.isnull().sum()"
   ]
  },
  {
   "cell_type": "code",
   "execution_count": null,
   "metadata": {},
   "outputs": [],
   "source": [
    "# Summary of datatypes\n",
    "print(\"\\nDatatype Summary:\")\n",
    "print(df.dtypes.value_counts())"
   ]
  },
  {
   "cell_type": "code",
   "execution_count": null,
   "metadata": {},
   "outputs": [],
   "source": [
    "# Convert string columns to integer by removing unit suffixes\n",
    "# Integer conversions\n",
    "df['Battery_power_mAh'] = df['Battery_power_mAh'].str.replace(' mAh', '').astype(int)\n",
    "df['Ram_mb'] = df['Ram_mb'].str.replace(' mb', '').astype(int)\n",
    "df['Internal_memeory_gb'] = df['Internal_memeory_gb'].str.replace(' gb', '').astype(int)\n",
    "df['Primary_camera'] = df['Primary_camera'].str.replace(' pixels', '').astype(int)\n",
    "df['Front_camera'] = df['Front_camera'].str.replace(' pixels', '').astype(int)\n",
    "df['Mobile_weight'] = df['Mobile_weight'].str.replace(' g', '').astype(int)\n",
    "df['px_height'] = df['px_height'].str.replace(' ppcm', '').astype(int)\n",
    "df['Pixel_width'] = df['Pixel_width'].str.replace(' ppcm', '').astype(int)\n",
    "df['Screen_height'] = df['Screen_height'].str.replace(' cm', '').astype(int)\n",
    "\n",
    "# Float conversions\n",
    "df['Mobile_depth'] = df['Mobile_depth'].str.replace(' cm', '').astype(float)\n",
    "\n",
    "print(\"Data type conversions completed!\")\n",
    "print(\"\\nUpdated datatypes:\")\n",
    "print(df.dtypes)"
   ]
  },
  {
   "cell_type": "code",
   "execution_count": null,
   "metadata": {},
   "outputs": [],
   "source": [
    "# Convert binary categorical features from Yes/No to 1/0\n",
    "binary_columns = ['Bluetooh', 'Dual_sim', '4G', '3G', 'touch_screen', 'wifi']\n",
    "\n",
    "for col in binary_columns:\n",
    "    if col in df.columns:  # Check if column exists\n",
    "        df[col] = df[col].map({'Yes': 1, 'No': 0})\n",
    "\n",
    "print(\"Binary categorical conversions completed!\")\n",
    "print(\"\\nConverted columns:\")\n",
    "for col in binary_columns:\n",
    "    if col in df.columns:\n",
    "        print(f\"{col}: {df[col].unique()}\")"
   ]
  },
  {
   "cell_type": "code",
   "execution_count": null,
   "metadata": {},
   "outputs": [],
   "source": [
    "# Remove screen_height, screen_weight, and 3G columns\n",
    "columns_to_remove = ['Screen_height', 'Screen_weight', '3G']\n",
    "df = df.drop(columns=columns_to_remove)\n",
    "\n",
    "print(f\"Columns removed: {columns_to_remove}\")\n",
    "print(f\"New dataset shape: {df.shape}\")\n",
    "print(f\"Remaining columns: {df.shape[1]}\")"
   ]
  }
 ],
 "metadata": {
  "kernelspec": {
   "display_name": "Python 3",
   "language": "python",
   "name": "python3"
  },
  "language_info": {
   "codemirror_mode": {
    "name": "ipython",
    "version": 3
   },
   "file_extension": ".py",
   "mimetype": "text/x-python",
   "name": "python",
   "nbconvert_exporter": "python",
   "pygments_lexer": "ipython3",
   "version": "3.13.0"
  }
 },
 "nbformat": 4,
 "nbformat_minor": 4
}
