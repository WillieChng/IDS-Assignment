{
 "cells": [
  {
   "cell_type": "markdown",
   "metadata": {},
   "source": [
    "# CSV Datatype Analysis"
   ]
  },
  {
   "cell_type": "code",
   "execution_count": null,
   "metadata": {},
   "outputs": [],
   "source": [
    "import pandas as pd\n",
    "import numpy as np"
   ]
  },
  {
   "cell_type": "code",
   "execution_count": null,
   "metadata": {},
   "outputs": [],
   "source": [
    "# Load the CSV file\n",
    "df = pd.read_csv('Mobile.csv')\n",
    "print(f\"Dataset shape: {df.shape}\")\n",
    "print(f\"Number of rows: {df.shape[0]}\")\n",
    "print(f\"Number of columns: {df.shape[1]}\")"
   ]
  },
  {
   "cell_type": "code",
   "execution_count": null,
   "metadata": {},
   "outputs": [],
   "source": [
    "# Display first few rows\n",
    "df.head()"
   ]
  },
  {
   "cell_type": "code",
   "execution_count": null,
   "metadata": {},
   "outputs": [],
   "source": [
    "# Display datatypes of all columns\n",
    "print(\"Column Datatypes:\")\n",
    "print(df.dtypes)"
   ]
  },
  {
   "cell_type": "code",
   "execution_count": null,
   "metadata": {},
   "outputs": [],
   "source": [
    "# Detailed information including datatypes, non-null counts, and memory usage\n",
    "df.info()"
   ]
  },
  {
   "cell_type": "code",
   "execution_count": null,
   "metadata": {},
   "outputs": [],
   "source": [
    "df.isnull().sum()"
   ]
  },
  {
   "cell_type": "code",
   "execution_count": null,
   "metadata": {},
   "outputs": [],
   "source": [
    "# Summary of datatypes\n",
    "print(\"\\nDatatype Summary:\")\n",
    "print(df.dtypes.value_counts())"
   ]
  },
  {
   "cell_type": "code",
   "execution_count": null,
   "metadata": {},
   "outputs": [],
   "source": [
    "# Convert string columns to integer by removing unit suffixes\n",
    "# Integer conversions\n",
    "df['Battery_power_mAh'] = df['Battery_power_mAh'].str.replace(' mAh', '').astype(int)\n",
    "df['Ram_mb'] = df['Ram_mb'].str.replace(' mb', '').astype(int)\n",
    "df['Internal_memeory_gb'] = df['Internal_memeory_gb'].str.replace(' gb', '').astype(int)\n",
    "df['Primary_camera'] = df['Primary_camera'].str.replace(' pixels', '').astype(int)\n",
    "df['Front_camera'] = df['Front_camera'].str.replace(' pixels', '').astype(int)\n",
    "df['Mobile_weight'] = df['Mobile_weight'].str.replace(' g', '').astype(int)\n",
    "df['px_height'] = df['px_height'].str.replace(' ppcm', '').astype(int)\n",
    "df['Pixel_width'] = df['Pixel_width'].str.replace(' ppcm', '').astype(int)\n",
    "df['Screen_height'] = df['Screen_height'].str.replace(' cm', '').astype(int)\n",
    "\n",
    "# Float conversions\n",
    "df['Mobile_depth'] = df['Mobile_depth'].str.replace(' cm', '').astype(float)\n",
    "\n",
    "print(\"Data type conversions completed!\")\n",
    "print(\"\\nUpdated datatypes:\")\n",
    "print(df.dtypes)"
   ]
  },
  {
   "cell_type": "code",
   "execution_count": null,
   "metadata": {},
   "outputs": [],
   "source": [
    "# Convert binary categorical features from Yes/No to 1/0\n",
    "binary_columns = ['Bluetooh', 'Dual_sim', '4G', '3G', 'touch_screen', 'wifi']\n",
    "\n",
    "for col in binary_columns:\n",
    "    if col in df.columns:  # Check if column exists\n",
    "        df[col] = df[col].map({'Yes': 1, 'No': 0})\n",
    "\n",
    "print(\"Binary categorical conversions completed!\")\n",
    "print(\"\\nConverted columns:\")\n",
    "for col in binary_columns:\n",
    "    if col in df.columns:\n",
    "        print(f\"{col}: {df[col].unique()}\")"
   ]
  },
  {
   "cell_type": "code",
   "execution_count": null,
   "metadata": {},
   "outputs": [],
   "source": [
    "# Remove screen_height, screen_weight, and 3G columns\n",
    "columns_to_remove = ['Screen_height', 'Screen_weight', '3G']\n",
    "df = df.drop(columns=columns_to_remove)\n",
    "\n",
    "print(f\"Columns removed: {columns_to_remove}\")\n",
    "print(f\"New dataset shape: {df.shape}\")\n",
    "print(f\"Remaining columns: {df.shape[1]}\")"
   ]
  },
  {
   "cell_type": "code",
   "execution_count": null,
   "metadata": {},
   "outputs": [],
   "source": [
    "# Final Preprocessed Dataset Structure\n",
    "print(\"=\"*80)\n",
    "print(\"FINAL PREPROCESSED DATASET STRUCTURE\")\n",
    "print(\"=\"*80)\n",
    "print()\n",
    "\n",
    "# Dataset dimensions\n",
    "print(\"Dataset Dimensions:\")\n",
    "print(f\"  Total Records: {df.shape[0]}\")\n",
    "print(f\"  Total Features: {df.shape[1]}\")\n",
    "print()\n",
    "\n",
    "# Column information by category\n",
    "numerical_cols = df.select_dtypes(include=[np.number]).columns.tolist()\n",
    "categorical_cols = df.select_dtypes(include=['object']).columns.tolist()\n",
    "\n",
    "binary_cols = ['Bluetooh', 'Dual_sim', '4G', 'touch_screen', 'wifi']\n",
    "continuous_cols = [col for col in numerical_cols if col not in binary_cols]\n",
    "\n",
    "print(\"Feature Categories:\")\n",
    "print(f\"  Continuous Numerical: {len(continuous_cols)}\")\n",
    "print(f\"  Binary (0/1): {len(binary_cols)}\")\n",
    "print(f\"  Categorical (String): {len(categorical_cols)}\")\n",
    "print()\n",
    "\n",
    "print(\"-\"*80)\n",
    "print(\"Continuous Numerical Features ({}):\".format(len(continuous_cols)))\n",
    "print(\"-\"*80)\n",
    "for i, col in enumerate(continuous_cols, 1):\n",
    "    dtype = df[col].dtype\n",
    "    min_val = df[col].min()\n",
    "    max_val = df[col].max()\n",
    "    print(f\"{i:2d}. {col:25s} | Type: {str(dtype):7s} | Range: [{min_val:8.1f}, {max_val:8.1f}]\")\n",
    "\n",
    "print()\n",
    "print(\"-\"*80)\n",
    "print(\"Binary Features ({}):\".format(len(binary_cols)))\n",
    "print(\"-\"*80)\n",
    "for i, col in enumerate(binary_cols, 1):\n",
    "    if col in df.columns:\n",
    "        dtype = df[col].dtype\n",
    "        unique_vals = sorted(df[col].unique())\n",
    "        print(f\"{i}. {col:25s} | Type: {str(dtype):7s} | Values: {unique_vals}\")\n",
    "\n",
    "print()\n",
    "print(\"-\"*80)\n",
    "print(\"Categorical Features ({}):\".format(len(categorical_cols)))\n",
    "print(\"-\"*80)\n",
    "if len(categorical_cols) > 0:\n",
    "    for i, col in enumerate(categorical_cols, 1):\n",
    "        dtype = df[col].dtype\n",
    "        unique_count = df[col].nunique()\n",
    "        print(f\"{i}. {col:25s} | Type: {str(dtype):7s} | Unique values: {unique_count}\")\n",
    "        print(f\"   Categories: {df[col].unique().tolist()}\")\n",
    "else:\n",
    "    print(\"None\")\n",
    "\n",
    "print()\n",
    "print(\"=\"*80)\n",
    "print(\"Data Quality Check:\")\n",
    "print(f\"  Missing values: {df.isnull().sum().sum()}\")\n",
    "print(f\"  Duplicate rows: {df.duplicated().sum()}\")\n",
    "print(\"=\"*80)\n",
    "print()\n",
    "print(\"Preprocessing completed successfully\\!\")\n",
    "print(f\"Dataset is ready for analysis and modeling.\")"
   ]
  }
 ],
 "metadata": {
  "kernelspec": {
   "display_name": "ids",
   "language": "python",
   "name": "python3"
  },
  "language_info": {
   "codemirror_mode": {
    "name": "ipython",
    "version": 3
   },
   "file_extension": ".py",
   "mimetype": "text/x-python",
   "name": "python",
   "nbconvert_exporter": "python",
   "pygments_lexer": "ipython3",
   "version": "3.13.7"
  }
 },
 "nbformat": 4,
 "nbformat_minor": 4
}
